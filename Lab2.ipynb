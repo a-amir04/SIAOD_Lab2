{
  "cells": [
    {
      "cell_type": "markdown",
      "id": "fifteen-sailing",
      "metadata": {
        "id": "fifteen-sailing"
      },
      "source": [
        "# Лабораторная работа №2\n",
        "## Выполнил студент группы БВТ2101 Абдукулов Амир"
      ]
    },
    {
      "cell_type": "markdown",
      "source": [
        "Реализовать следующие структуры данных:\n",
        "  \n",
        "● <b> Стек (stack): </b>  \n",
        "Операции для стека: \n",
        "<i> инициализация, проверка на пустоту, добавление нового элемента в начало, извлечение элемента из начала;  </i>"
      ],
      "metadata": {
        "id": "BzlBxGC7ncHV"
      },
      "id": "BzlBxGC7ncHV"
    },
    {
      "cell_type": "code",
      "source": [
        "class Stack:\n",
        "    def __init__(self):\n",
        "        self.stack = []\n",
        "\n",
        "    def is_empty(self):\n",
        "        return len(self.stack) == 0\n",
        "\n",
        "    def push(self, value):\n",
        "        self.stack.append(value)\n",
        "\n",
        "    def peek(self):\n",
        "        if self.is_empty():\n",
        "            raise EmptyStack(\"Stack is empty\")\n",
        "        return self.stack[-1]\n",
        "\n",
        "    def pop(self):\n",
        "        if self.is_empty():\n",
        "            raise Exception(\"Stack is empty\")\n",
        "        return self.stack.pop()\n",
        "\n",
        "    def size(self):\n",
        "        return len(self.stack)\n",
        "\n",
        "    def print(self):\n",
        "        print(self.stack)\n",
        "\n",
        "class EmptyStack(Exception):\n",
        "    pass\n"
      ],
      "metadata": {
        "id": "U7Zo_GQYl5T7"
      },
      "id": "U7Zo_GQYl5T7",
      "execution_count": null,
      "outputs": []
    },
    {
      "cell_type": "markdown",
      "id": "arctic-stocks",
      "metadata": {
        "id": "arctic-stocks"
      },
      "source": [
        "  \n",
        "  \n",
        "● <b> Дек (двусторонняя очередь, deque):  </b>  \n",
        "Операции для дека: \n",
        "<i> инициализация, проверка на пустоту, добавление нового элемента в начало, добавление нового элемента в конец, извлечение элемента из начала, извлечение элемента из конца. </i>  \n",
        "  \n",
        "<i> Разработать программу обработки данных, содержащихся в заранее подготовленном txt-файле, в соответствии с заданиями, применив указанную в задании структуру данных. Результат работы программы вывести на экран и сохранить в отдельном txt-файле. </i>"
      ]
    },
    {
      "cell_type": "code",
      "source": [
        "class Deque:\n",
        "    def __init__(self):\n",
        "        self.deque = []\n",
        "\n",
        "    def is_empty(self):\n",
        "        return len(self.deque) == 0\n",
        "\n",
        "    def add_first(self, value):\n",
        "        self.deque.insert(0, value)\n",
        "\n",
        "    def add_last(self, value):\n",
        "        self.deque.append(value)\n",
        "\n",
        "    def pop_first(self):\n",
        "        if self.is_empty():\n",
        "            raise Exception(\"Deque is empty\")\n",
        "        return self.deque.pop(0)\n",
        "\n",
        "    def pop_last(self):\n",
        "        if self.is_empty():\n",
        "            raise Exception(\"Deque is empty\")\n",
        "        return self.deque.pop()\n",
        "\n",
        "    def peek_first(self):\n",
        "        if self.is_empty():\n",
        "            raise Exception(\"Deque is empty\")\n",
        "        return self.deque[0]\n",
        "\n",
        "    def peek_last(self):\n",
        "        if self.is_empty():\n",
        "            raise Exception(\"Deque is empty\")\n",
        "        return self.deque[-1]\n",
        "\n",
        "    def size(self):\n",
        "        return len(self.deque)\n",
        "\n",
        "    def print(self):\n",
        "        print(self.deque)"
      ],
      "metadata": {
        "id": "9isKg7ekl8GO"
      },
      "id": "9isKg7ekl8GO",
      "execution_count": null,
      "outputs": []
    },
    {
      "cell_type": "markdown",
      "id": "5d7edb08",
      "metadata": {
        "scrolled": true,
        "id": "5d7edb08"
      },
      "source": [
        "### Задание №1\n",
        "Отсортировать строки файла, содержащие названия книг, в алфавитном порядке с использованием двух деков."
      ]
    },
    {
      "cell_type": "code",
      "execution_count": null,
      "id": "17702ade",
      "metadata": {
        "id": "17702ade",
        "colab": {
          "base_uri": "https://localhost:8080/"
        },
        "outputId": "62b148c1-a562-46b2-a0e3-bec45151d30a"
      },
      "outputs": [
        {
          "output_type": "stream",
          "name": "stdout",
          "text": [
            "A\n",
            "\n",
            "B\n",
            "\n",
            "C\n"
          ]
        }
      ],
      "source": [
        "with open('book.txt', 'r', encoding='utf-8') as f:\n",
        "    d1 = Deque()\n",
        "    d2 = Deque()\n",
        "\n",
        "    for book in f:\n",
        "        d1.add_last(book)\n",
        "\n",
        "    while not d1.is_empty():\n",
        "        x = d1.pop_last()\n",
        "        while not d2.is_empty() and d2.peek_last() < x:\n",
        "            d1.add_first(d2.pop_last())\n",
        "        d2.add_last(x)\n",
        "\n",
        "    while not d2.is_empty():\n",
        "        print(d2.pop_last())"
      ]
    },
    {
      "cell_type": "markdown",
      "id": "49fbd2a0",
      "metadata": {
        "id": "49fbd2a0"
      },
      "source": [
        "### Задание №2\n",
        "Дек содержит последовательность символов для шифровки сообщений. Дан текстовый файл, содержащий зашифрованное сообщение. Пользуясь деком, расшифровать текст. \n",
        "Известно, что при шифровке каждый символ сообщения заменялся следующим за ним в деке по часовой стрелке через один."
      ]
    },
    {
      "cell_type": "code",
      "execution_count": null,
      "id": "81cab7a8",
      "metadata": {
        "id": "81cab7a8",
        "colab": {
          "base_uri": "https://localhost:8080/"
        },
        "outputId": "817cc249-1adc-40af-8f1f-e8d7dbebd32a"
      },
      "outputs": [
        {
          "output_type": "stream",
          "name": "stdout",
          "text": [
            "абвгд\n"
          ]
        }
      ],
      "source": [
        "alphabet = list('абвгдеёжзийклмнопрстуфхцчшщъыьэюя')\n",
        "\n",
        "keyRing = Deque()\n",
        "for letter in alphabet:\n",
        "    keyRing.add_last(letter)\n",
        "\n",
        "def decode_char(c):\n",
        "    for i in range(keyRing.size()):\n",
        "        x = keyRing.pop_last()\n",
        "        if x == c:\n",
        "            keyRing.add_first(x)\n",
        "            val = keyRing.pop_last()\n",
        "            keyRing.add_first(val)\n",
        "            return val\n",
        "        keyRing.add_first(x)\n",
        "\n",
        "text = 'бвгде'\n",
        "\n",
        "\n",
        "\n",
        "decoded = ''\n",
        "for letter in text:\n",
        "    if decoded_letter := decode_char(letter):\n",
        "        decoded += decoded_letter\n",
        "    else:\n",
        "        decoded += letter\n",
        "print(decoded)"
      ]
    },
    {
      "cell_type": "markdown",
      "id": "c0894f47",
      "metadata": {
        "id": "c0894f47"
      },
      "source": [
        "### Задание №3\n",
        "Даны три стержня и n дисков различного размера. Диски можно надевать на стержни, образуя из них башни. Перенести n дисков со стержня А на стержень С, сохранив их первоначальный порядок. При переносе дисков необходимо соблюдать следующие правила:\n",
        "- на каждом шаге со стержня на стержень переносить только один диск;\n",
        "- диск нельзя помещать на диск меньшего размера;\n",
        "- для промежуточного хранения можно использовать стержень В.\n",
        "Реализовать алгоритм, используя три стека вместо стержней А, В, С. Информация о дисках хранится в исходном файле."
      ]
    },
    {
      "cell_type": "code",
      "execution_count": null,
      "id": "9e91a9d4",
      "metadata": {
        "id": "9e91a9d4",
        "colab": {
          "base_uri": "https://localhost:8080/"
        },
        "outputId": "6bb7f0c4-7f03-4464-8102-7240a931fd54"
      },
      "outputs": [
        {
          "output_type": "stream",
          "name": "stdout",
          "text": [
            "1\n",
            "2\n",
            "3\n",
            "4\n",
            "5\n",
            "6\n",
            "7\n",
            "8\n",
            "9\n",
            "10\n"
          ]
        }
      ],
      "source": [
        "A = Stack()\n",
        "B = Stack()\n",
        "C = Stack()\n",
        "\n",
        "disks = 10\n",
        "\n",
        "for i in range(disks, 0, -1):\n",
        "    A.push(i)\n",
        "\n",
        "\n",
        "def move(a, b):\n",
        "    if a.is_empty() and not b.is_empty():\n",
        "        a.push(b.pop())\n",
        "    elif not a.is_empty() and b.is_empty():\n",
        "        b.push(a.pop())\n",
        "    elif a.peek() > b.peek():\n",
        "        a.push(b.pop())\n",
        "    else:\n",
        "        b.push(a.pop())\n",
        "\n",
        "\n",
        "if disks % 2 == 0:\n",
        "    while C.size() != disks:\n",
        "        move(A, B)\n",
        "        move(A, C)\n",
        "        move(B, C)\n",
        "else:\n",
        "    while C.size() != disks:\n",
        "        move(A, C)\n",
        "        move(A, B)\n",
        "        move(B, C)\n",
        "\n",
        "while not C.is_empty():\n",
        "    print(C.pop())"
      ]
    },
    {
      "cell_type": "markdown",
      "id": "e5b0be17",
      "metadata": {
        "id": "e5b0be17"
      },
      "source": [
        "### Задание №4\n",
        "Дан текстовый файл с программой на алгоритмическом языке. За один просмотр файла проверить баланс круглых скобок в тексте, используя стек."
      ]
    },
    {
      "cell_type": "code",
      "execution_count": null,
      "id": "5b1df60a",
      "metadata": {
        "id": "5b1df60a",
        "colab": {
          "base_uri": "https://localhost:8080/"
        },
        "outputId": "d82c684f-33c9-4dc5-f4ae-def07ecc122b"
      },
      "outputs": [
        {
          "output_type": "stream",
          "name": "stdout",
          "text": [
            "False\n",
            "True\n",
            "True\n"
          ]
        }
      ],
      "source": [
        "def check_brackets(string):\n",
        "    bracket_stack = Stack()\n",
        "    for i in string:\n",
        "        if i == '(':\n",
        "            bracket_stack.push(i)\n",
        "        elif i == ')':\n",
        "            if bracket_stack.is_empty():\n",
        "                return False\n",
        "            bracket_stack.pop()\n",
        "    return bracket_stack.is_empty()\n",
        "\n",
        "print(check_brackets('()())'))\n",
        "print(check_brackets('(()())()()()()(()(()(())()))'))\n",
        "print(check_brackets('()'))"
      ]
    },
    {
      "cell_type": "markdown",
      "id": "c44cdd6b",
      "metadata": {
        "id": "c44cdd6b"
      },
      "source": [
        "### Задание №5\n",
        "Дан текстовый файл с программой на алгоритмическом языке. За один просмотр файла проверить баланс квадратных скобок в тексте, используя дек."
      ]
    },
    {
      "cell_type": "code",
      "execution_count": null,
      "id": "36b8f400",
      "metadata": {
        "id": "36b8f400",
        "colab": {
          "base_uri": "https://localhost:8080/"
        },
        "outputId": "af8214c2-198a-416f-97ca-fe15c10936d3"
      },
      "outputs": [
        {
          "output_type": "stream",
          "name": "stdout",
          "text": [
            "True\n",
            "False\n"
          ]
        }
      ],
      "source": [
        "def check_square_brackets(string):\n",
        "    bracket_stack = Deque()\n",
        "    for i in string:\n",
        "        if i == '[':\n",
        "            bracket_stack.add_last(i)\n",
        "        elif i == ']':\n",
        "            if bracket_stack.is_empty():\n",
        "                return False\n",
        "            bracket_stack.pop_last()\n",
        "    return bracket_stack.is_empty()\n",
        "\n",
        "print(check_square_brackets('[]'))\n",
        "print(check_square_brackets('[[]]]'))"
      ]
    },
    {
      "cell_type": "markdown",
      "id": "59d13dc7",
      "metadata": {
        "id": "59d13dc7"
      },
      "source": [
        "### Задание №6\n",
        "Дан файл из символов. Используя стек, за один просмотр файла напечатать сначала все цифры, затем все буквы, и, наконец, все остальные символы, сохраняя исходный порядок в каждой группе символов."
      ]
    },
    {
      "cell_type": "code",
      "execution_count": null,
      "id": "297e36c2",
      "metadata": {
        "id": "297e36c2",
        "colab": {
          "base_uri": "https://localhost:8080/"
        },
        "outputId": "c2466336-b639-4af4-ebbf-ad9166d38aee"
      },
      "outputs": [
        {
          "output_type": "stream",
          "name": "stdout",
          "text": [
            "123буквы.,//\n"
          ]
        }
      ],
      "source": [
        "text = '.бук1,/2/в3ы'\n",
        "\n",
        "letters = Stack()\n",
        "digits = Stack()\n",
        "others = Stack()\n",
        "\n",
        "for c in text:\n",
        "    if c.isalpha():\n",
        "        letters.push(c)\n",
        "    elif c.isdigit():\n",
        "        digits.push(c)\n",
        "    else:\n",
        "        others.push(c)\n",
        "\n",
        "new_text = ''\n",
        "\n",
        "\n",
        "while not others.is_empty():\n",
        "    new_text += others.pop()\n",
        "\n",
        "while not letters.is_empty():\n",
        "    new_text += letters.pop()\n",
        "\n",
        "while not digits.is_empty():\n",
        "    new_text += digits.pop()\n",
        "print(new_text[::-1])"
      ]
    },
    {
      "cell_type": "markdown",
      "id": "973f68bd",
      "metadata": {
        "id": "973f68bd"
      },
      "source": [
        "### Задание №7\n",
        "Дан файл из целых чисел. Используя дек, за один просмотр файла напечатать сначала все отрицательные числа, затем все положительные числа, сохраняя исходный порядок в каждой группе."
      ]
    },
    {
      "cell_type": "code",
      "execution_count": null,
      "id": "c56fad66",
      "metadata": {
        "id": "c56fad66",
        "colab": {
          "base_uri": "https://localhost:8080/"
        },
        "outputId": "423b0323-0ba7-4a44-a8f9-7eccb603defa"
      },
      "outputs": [
        {
          "output_type": "stream",
          "name": "stdout",
          "text": [
            "[-10, -4, 8, 2, -3, -2, 9, -6, -1, 4]\n",
            "-10\n",
            "-4\n",
            "-3\n",
            "-2\n",
            "-6\n",
            "-1\n",
            "8\n",
            "2\n",
            "9\n",
            "4\n"
          ]
        }
      ],
      "source": [
        "import random\n",
        "\n",
        "numbers = [random.randint(-10, 10) for i in range(10)]\n",
        "print(numbers)\n",
        "\n",
        "deque = Deque()\n",
        "for n in numbers:\n",
        "    if n < 0:\n",
        "        deque.add_first(n)\n",
        "    else:\n",
        "        deque.add_last(n)\n",
        "\n",
        "while not deque.is_empty():\n",
        "    x = deque.pop_first()\n",
        "    if x < 0:\n",
        "        deque.add_last(x)\n",
        "    else:\n",
        "        deque.add_first(x)\n",
        "        break\n",
        "\n",
        "while not deque.is_empty():\n",
        "    x = deque.pop_last()\n",
        "    if x < 0:\n",
        "        print(x)\n",
        "    else:\n",
        "        deque.add_last(x)\n",
        "        break\n",
        "\n",
        "while not deque.is_empty():\n",
        "    print(deque.pop_first())"
      ]
    },
    {
      "cell_type": "markdown",
      "id": "b9228191",
      "metadata": {
        "id": "b9228191"
      },
      "source": [
        "### Задание №8\n",
        "Дан текстовый файл. Используя стек, сформировать новый текстовый файл, содержащий строки исходного файла, записанные в обратном порядке: первая строка становится последней, вторая – предпоследней и т.д."
      ]
    },
    {
      "cell_type": "code",
      "execution_count": null,
      "id": "981fbdfe",
      "metadata": {
        "id": "981fbdfe",
        "colab": {
          "base_uri": "https://localhost:8080/"
        },
        "outputId": "990b84da-79f1-49e4-c5d0-694d2a48b41f"
      },
      "outputs": [
        {
          "output_type": "stream",
          "name": "stdout",
          "text": [
            "B\n",
            "A\n",
            "C\n",
            "-----------------------------\n",
            "C\n",
            "A\n",
            "B\n"
          ]
        }
      ],
      "source": [
        "with open('book.txt', 'r', encoding='utf-8') as books:\n",
        "    stack = Stack()\n",
        "    for book in books:\n",
        "        book = book.strip()\n",
        "        print(book)\n",
        "        stack.push(book)\n",
        "    print('-----------------------------')\n",
        "    while not stack.is_empty():\n",
        "        print(stack.pop())"
      ]
    },
    {
      "cell_type": "markdown",
      "id": "rental-jerusalem",
      "metadata": {
        "id": "rental-jerusalem"
      },
      "source": [
        "### Вывод\n"
      ]
    },
    {
      "cell_type": "markdown",
      "id": "0c2b8899",
      "metadata": {
        "id": "0c2b8899"
      },
      "source": [
        "Научился работать со структурами данных, как стек и дек."
      ]
    }
  ],
  "metadata": {
    "kernelspec": {
      "display_name": "Python 3 (ipykernel)",
      "language": "python",
      "name": "python3"
    },
    "language_info": {
      "codemirror_mode": {
        "name": "ipython",
        "version": 3
      },
      "file_extension": ".py",
      "mimetype": "text/x-python",
      "name": "python",
      "nbconvert_exporter": "python",
      "pygments_lexer": "ipython3",
      "version": "3.10.2"
    },
    "colab": {
      "provenance": []
    }
  },
  "nbformat": 4,
  "nbformat_minor": 5
}